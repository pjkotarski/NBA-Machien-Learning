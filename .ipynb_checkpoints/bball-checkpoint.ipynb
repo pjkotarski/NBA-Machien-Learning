{
 "cells": [
  {
   "cell_type": "code",
   "execution_count": 1,
   "metadata": {},
   "outputs": [],
   "source": [
    "\n",
    "# Import necessary libraries\n",
    "import warnings\n",
    "warnings.filterwarnings(\"ignore\", message=\"numpy.dtype size changed\")\n",
    "%matplotlib inline\n",
    "import matplotlib.pyplot as plt\n",
    "import pandas as pd\n",
    "from IPython.display import Image\n",
    "from time import sleep\n",
    "import os\n",
    "import numpy as np\n",
    "from sklearn.model_selection import train_test_split\n",
    "from sklearn.metrics import classification_report\n",
    "\n",
    "from amb_sdk.sdk import DarwinSdk\n"
   ]
  },
  {
   "cell_type": "code",
   "execution_count": 2,
   "metadata": {},
   "outputs": [],
   "source": [
    "# Login\n",
    "\n",
    "ds = DarwinSdk()\n",
    "ds.set_url('https://amb-demo-api.sparkcognition.com/v1/')\n",
    "status, msg = ds.auth_login_user('piercejkotarski@utexas.edu', '7bA3rFFMcM')\n",
    "\n",
    "if not status:\n",
    "    print(msg)"
   ]
  },
  {
   "cell_type": "code",
   "execution_count": 3,
   "metadata": {},
   "outputs": [],
   "source": [
    "dataset_name = 'nba_data.csv' #we're going to run three simultaneous datasets through darwin, all using this set. \n",
    "data = pd.read_csv(dataset_name)\n",
    "\n",
    "data['Playoff result'].replace(0, \"NP\", inplace = True)  # No playoffs\n",
    "data['Playoff result'].replace(1, \"FR\", inplace = True)  # Lost in first round\n",
    "data['Playoff result'].replace(2, \"SF\", inplace = True)  # Lost in semi-finals\n",
    "data['Playoff result'].replace(3, \"CF\", inplace = True)  # Lost in conference finals\n",
    "data['Playoff result'].replace(4, \"LF\", inplace = True)  # Lost in finals\n",
    "data['Playoff result'].replace(5, \"WF\", inplace = True)  # Won finals\n",
    "\n",
    "\n",
    "\n",
    "data = data.rename(index=str, columns={\"Games\": \"G\", \"Wins\": \"W\", \"Losses\": \"L\",\"# of teams in league\": \"NUM_TEAMS\", \n",
    "                                       \"Playoff result\": \"Result\", \"Mean Age\": \"Age\"})\n",
    "\n",
    "data.drop(columns = ['W', 'L', 'PW', 'PL', 'NUM_TEAMS', '2P', '2PA', 'NRtg', \"FG\", '3P', '3PA', 'TOV', 'SRS'])\n",
    "data[\"WIN_PCT\"] = data['W'] / data['G']\n",
    "\n",
    "data = data[data['G'] >= 81]\n",
    "\n",
    "#establishes columns for which standardization / normalization is allowed\n",
    "cols = [col for col in data.columns if col not in ['Team', 'Result', 'G', 'WIN_PCT']]"
   ]
  },
  {
   "cell_type": "code",
   "execution_count": 4,
   "metadata": {},
   "outputs": [
    {
     "name": "stderr",
     "output_type": "stream",
     "text": [
      "/Library/Frameworks/Python.framework/Versions/3.6/lib/python3.6/site-packages/pandas-0.24.2-py3.6-macosx-10.6-intel.egg/pandas/core/frame.py:3391: SettingWithCopyWarning: \n",
      "A value is trying to be set on a copy of a slice from a DataFrame.\n",
      "Try using .loc[row_indexer,col_indexer] = value instead\n",
      "\n",
      "See the caveats in the documentation: http://pandas.pydata.org/pandas-docs/stable/indexing.html#indexing-view-versus-copy\n",
      "  self[k1] = value[k2]\n"
     ]
    },
    {
     "data": {
      "text/html": [
       "<div>\n",
       "<style scoped>\n",
       "    .dataframe tbody tr th:only-of-type {\n",
       "        vertical-align: middle;\n",
       "    }\n",
       "\n",
       "    .dataframe tbody tr th {\n",
       "        vertical-align: top;\n",
       "    }\n",
       "\n",
       "    .dataframe thead th {\n",
       "        text-align: right;\n",
       "    }\n",
       "</style>\n",
       "<table border=\"1\" class=\"dataframe\">\n",
       "  <thead>\n",
       "    <tr style=\"text-align: right;\">\n",
       "      <th></th>\n",
       "      <th>SRS</th>\n",
       "      <th>DRtg</th>\n",
       "      <th>MOV</th>\n",
       "      <th>ORtg</th>\n",
       "      <th>Age</th>\n",
       "      <th>DeFG%</th>\n",
       "      <th>SOS</th>\n",
       "      <th>OFT/FGA</th>\n",
       "      <th>ORB%</th>\n",
       "      <th>TOV</th>\n",
       "      <th>OeFG%</th>\n",
       "      <th>Team</th>\n",
       "      <th>Result</th>\n",
       "    </tr>\n",
       "  </thead>\n",
       "  <tbody>\n",
       "    <tr>\n",
       "      <th>0</th>\n",
       "      <td>-1.08</td>\n",
       "      <td>106.9</td>\n",
       "      <td>-1.29</td>\n",
       "      <td>105.5</td>\n",
       "      <td>26.6</td>\n",
       "      <td>0.482</td>\n",
       "      <td>0.22</td>\n",
       "      <td>0.270</td>\n",
       "      <td>31.6</td>\n",
       "      <td>16.2</td>\n",
       "      <td>0.476</td>\n",
       "      <td>Atlanta Hawks</td>\n",
       "      <td>FR</td>\n",
       "    </tr>\n",
       "    <tr>\n",
       "      <th>1</th>\n",
       "      <td>6.42</td>\n",
       "      <td>104.4</td>\n",
       "      <td>6.56</td>\n",
       "      <td>110.9</td>\n",
       "      <td>28.0</td>\n",
       "      <td>0.475</td>\n",
       "      <td>-0.14</td>\n",
       "      <td>0.264</td>\n",
       "      <td>34.2</td>\n",
       "      <td>17.3</td>\n",
       "      <td>0.504</td>\n",
       "      <td>Boston Celtics</td>\n",
       "      <td>WF</td>\n",
       "    </tr>\n",
       "    <tr>\n",
       "      <th>2</th>\n",
       "      <td>-4.69</td>\n",
       "      <td>107.5</td>\n",
       "      <td>-5.18</td>\n",
       "      <td>102.4</td>\n",
       "      <td>24.4</td>\n",
       "      <td>0.497</td>\n",
       "      <td>0.50</td>\n",
       "      <td>0.268</td>\n",
       "      <td>32.3</td>\n",
       "      <td>19.2</td>\n",
       "      <td>0.475</td>\n",
       "      <td>Chicago Bulls</td>\n",
       "      <td>NP</td>\n",
       "    </tr>\n",
       "    <tr>\n",
       "      <th>3</th>\n",
       "      <td>-3.71</td>\n",
       "      <td>108.5</td>\n",
       "      <td>-4.26</td>\n",
       "      <td>104.1</td>\n",
       "      <td>25.4</td>\n",
       "      <td>0.490</td>\n",
       "      <td>0.55</td>\n",
       "      <td>0.224</td>\n",
       "      <td>33.5</td>\n",
       "      <td>16.2</td>\n",
       "      <td>0.468</td>\n",
       "      <td>Cleveland Cavaliers</td>\n",
       "      <td>NP</td>\n",
       "    </tr>\n",
       "    <tr>\n",
       "      <th>4</th>\n",
       "      <td>0.15</td>\n",
       "      <td>109.6</td>\n",
       "      <td>0.43</td>\n",
       "      <td>110.0</td>\n",
       "      <td>24.7</td>\n",
       "      <td>0.503</td>\n",
       "      <td>-0.27</td>\n",
       "      <td>0.245</td>\n",
       "      <td>31.7</td>\n",
       "      <td>15.9</td>\n",
       "      <td>0.503</td>\n",
       "      <td>Dallas Mavericks</td>\n",
       "      <td>SF</td>\n",
       "    </tr>\n",
       "  </tbody>\n",
       "</table>\n",
       "</div>"
      ],
      "text/plain": [
       "    SRS   DRtg   MOV   ORtg   Age  DeFG%   SOS  OFT/FGA  ORB%   TOV  OeFG%  \\\n",
       "0 -1.08  106.9 -1.29  105.5  26.6  0.482  0.22    0.270  31.6  16.2  0.476   \n",
       "1  6.42  104.4  6.56  110.9  28.0  0.475 -0.14    0.264  34.2  17.3  0.504   \n",
       "2 -4.69  107.5 -5.18  102.4  24.4  0.497  0.50    0.268  32.3  19.2  0.475   \n",
       "3 -3.71  108.5 -4.26  104.1  25.4  0.490  0.55    0.224  33.5  16.2  0.468   \n",
       "4  0.15  109.6  0.43  110.0  24.7  0.503 -0.27    0.245  31.7  15.9  0.503   \n",
       "\n",
       "                  Team Result  \n",
       "0        Atlanta Hawks     FR  \n",
       "1       Boston Celtics     WF  \n",
       "2        Chicago Bulls     NP  \n",
       "3  Cleveland Cavaliers     NP  \n",
       "4     Dallas Mavericks     SF  "
      ]
     },
     "execution_count": 4,
     "metadata": {},
     "output_type": "execute_result"
    }
   ],
   "source": [
    "#removal of variables that we wanted out. \n",
    "data_out = data[['SRS', 'DRtg', 'MOV', 'ORtg', 'Age', 'DeFG%', 'SOS', 'OFT/FGA', 'ORB%', 'TOV', 'OeFG%']]\n",
    "\n",
    "out = ['Team', 'Result']\n",
    "data_out[out] = data[out] #reassigns the team and result after the removal of given \n",
    "data_out.head()"
   ]
  },
  {
   "cell_type": "code",
   "execution_count": 5,
   "metadata": {},
   "outputs": [
    {
     "data": {
      "text/html": [
       "<div>\n",
       "<style scoped>\n",
       "    .dataframe tbody tr th:only-of-type {\n",
       "        vertical-align: middle;\n",
       "    }\n",
       "\n",
       "    .dataframe tbody tr th {\n",
       "        vertical-align: top;\n",
       "    }\n",
       "\n",
       "    .dataframe thead th {\n",
       "        text-align: right;\n",
       "    }\n",
       "</style>\n",
       "<table border=\"1\" class=\"dataframe\">\n",
       "  <thead>\n",
       "    <tr style=\"text-align: right;\">\n",
       "      <th></th>\n",
       "      <th>MP</th>\n",
       "      <th>FG</th>\n",
       "      <th>FGA</th>\n",
       "      <th>FG%</th>\n",
       "      <th>3P</th>\n",
       "      <th>3PA</th>\n",
       "      <th>3P%</th>\n",
       "      <th>2P</th>\n",
       "      <th>2PA</th>\n",
       "      <th>2P%</th>\n",
       "      <th>...</th>\n",
       "      <th>DFT/FGA</th>\n",
       "      <th>Team</th>\n",
       "      <th>Result</th>\n",
       "      <th>NUM_TEAMS</th>\n",
       "      <th>G</th>\n",
       "      <th>W</th>\n",
       "      <th>L</th>\n",
       "      <th>PW</th>\n",
       "      <th>PL</th>\n",
       "      <th>WIN_PCT</th>\n",
       "    </tr>\n",
       "  </thead>\n",
       "  <tbody>\n",
       "    <tr>\n",
       "      <th>0</th>\n",
       "      <td>0.483871</td>\n",
       "      <td>0.000000</td>\n",
       "      <td>0.000000</td>\n",
       "      <td>0.134328</td>\n",
       "      <td>0.1</td>\n",
       "      <td>0.000000</td>\n",
       "      <td>0.310811</td>\n",
       "      <td>0.000000</td>\n",
       "      <td>0.064748</td>\n",
       "      <td>0.114286</td>\n",
       "      <td>...</td>\n",
       "      <td>0.641791</td>\n",
       "      <td>Atlanta Hawks</td>\n",
       "      <td>FR</td>\n",
       "      <td>23</td>\n",
       "      <td>82</td>\n",
       "      <td>40</td>\n",
       "      <td>42</td>\n",
       "      <td>37</td>\n",
       "      <td>45</td>\n",
       "      <td>0.487805</td>\n",
       "    </tr>\n",
       "    <tr>\n",
       "      <th>1</th>\n",
       "      <td>0.903226</td>\n",
       "      <td>0.546512</td>\n",
       "      <td>0.361111</td>\n",
       "      <td>0.522388</td>\n",
       "      <td>0.5</td>\n",
       "      <td>0.576923</td>\n",
       "      <td>0.466216</td>\n",
       "      <td>0.544304</td>\n",
       "      <td>0.330935</td>\n",
       "      <td>0.542857</td>\n",
       "      <td>...</td>\n",
       "      <td>0.000000</td>\n",
       "      <td>Boston Celtics</td>\n",
       "      <td>WF</td>\n",
       "      <td>23</td>\n",
       "      <td>82</td>\n",
       "      <td>62</td>\n",
       "      <td>20</td>\n",
       "      <td>57</td>\n",
       "      <td>25</td>\n",
       "      <td>0.756098</td>\n",
       "    </tr>\n",
       "    <tr>\n",
       "      <th>2</th>\n",
       "      <td>1.000000</td>\n",
       "      <td>0.104651</td>\n",
       "      <td>0.138889</td>\n",
       "      <td>0.134328</td>\n",
       "      <td>0.0</td>\n",
       "      <td>0.038462</td>\n",
       "      <td>0.000000</td>\n",
       "      <td>0.126582</td>\n",
       "      <td>0.201439</td>\n",
       "      <td>0.128571</td>\n",
       "      <td>...</td>\n",
       "      <td>0.611940</td>\n",
       "      <td>Chicago Bulls</td>\n",
       "      <td>NP</td>\n",
       "      <td>23</td>\n",
       "      <td>82</td>\n",
       "      <td>27</td>\n",
       "      <td>55</td>\n",
       "      <td>28</td>\n",
       "      <td>54</td>\n",
       "      <td>0.329268</td>\n",
       "    </tr>\n",
       "    <tr>\n",
       "      <th>3</th>\n",
       "      <td>0.483871</td>\n",
       "      <td>0.186047</td>\n",
       "      <td>0.361111</td>\n",
       "      <td>0.000000</td>\n",
       "      <td>0.3</td>\n",
       "      <td>0.269231</td>\n",
       "      <td>0.614865</td>\n",
       "      <td>0.177215</td>\n",
       "      <td>0.388489</td>\n",
       "      <td>0.000000</td>\n",
       "      <td>...</td>\n",
       "      <td>0.820896</td>\n",
       "      <td>Cleveland Cavaliers</td>\n",
       "      <td>NP</td>\n",
       "      <td>23</td>\n",
       "      <td>82</td>\n",
       "      <td>28</td>\n",
       "      <td>54</td>\n",
       "      <td>30</td>\n",
       "      <td>52</td>\n",
       "      <td>0.341463</td>\n",
       "    </tr>\n",
       "    <tr>\n",
       "      <th>4</th>\n",
       "      <td>0.903226</td>\n",
       "      <td>0.546512</td>\n",
       "      <td>0.361111</td>\n",
       "      <td>0.522388</td>\n",
       "      <td>0.3</td>\n",
       "      <td>0.346154</td>\n",
       "      <td>0.385135</td>\n",
       "      <td>0.569620</td>\n",
       "      <td>0.374101</td>\n",
       "      <td>0.528571</td>\n",
       "      <td>...</td>\n",
       "      <td>0.104478</td>\n",
       "      <td>Dallas Mavericks</td>\n",
       "      <td>SF</td>\n",
       "      <td>23</td>\n",
       "      <td>82</td>\n",
       "      <td>43</td>\n",
       "      <td>39</td>\n",
       "      <td>42</td>\n",
       "      <td>40</td>\n",
       "      <td>0.524390</td>\n",
       "    </tr>\n",
       "  </tbody>\n",
       "</table>\n",
       "<p>5 rows × 50 columns</p>\n",
       "</div>"
      ],
      "text/plain": [
       "         MP        FG       FGA       FG%   3P       3PA       3P%        2P  \\\n",
       "0  0.483871  0.000000  0.000000  0.134328  0.1  0.000000  0.310811  0.000000   \n",
       "1  0.903226  0.546512  0.361111  0.522388  0.5  0.576923  0.466216  0.544304   \n",
       "2  1.000000  0.104651  0.138889  0.134328  0.0  0.038462  0.000000  0.126582   \n",
       "3  0.483871  0.186047  0.361111  0.000000  0.3  0.269231  0.614865  0.177215   \n",
       "4  0.903226  0.546512  0.361111  0.522388  0.3  0.346154  0.385135  0.569620   \n",
       "\n",
       "        2PA       2P%  ...   DFT/FGA                 Team  Result  NUM_TEAMS  \\\n",
       "0  0.064748  0.114286  ...  0.641791        Atlanta Hawks      FR         23   \n",
       "1  0.330935  0.542857  ...  0.000000       Boston Celtics      WF         23   \n",
       "2  0.201439  0.128571  ...  0.611940        Chicago Bulls      NP         23   \n",
       "3  0.388489  0.000000  ...  0.820896  Cleveland Cavaliers      NP         23   \n",
       "4  0.374101  0.528571  ...  0.104478     Dallas Mavericks      SF         23   \n",
       "\n",
       "    G   W   L  PW  PL   WIN_PCT  \n",
       "0  82  40  42  37  45  0.487805  \n",
       "1  82  62  20  57  25  0.756098  \n",
       "2  82  27  55  28  54  0.329268  \n",
       "3  82  28  54  30  52  0.341463  \n",
       "4  82  43  39  42  40  0.524390  \n",
       "\n",
       "[5 rows x 50 columns]"
      ]
     },
     "execution_count": 5,
     "metadata": {},
     "output_type": "execute_result"
    }
   ],
   "source": [
    "#creation of normalized and standardized data\n",
    "#out is a list of teams remvoved from standardization / normalization\n",
    "out = ['Team', 'Result', 'NUM_TEAMS', 'G', 'W', 'L', 'PW', 'PL', 'WIN_PCT']\n",
    "\n",
    "data_std = data[cols].groupby('Year').transform(lambda x: (x - x.mean()) / x.std())\n",
    "data_std[out] = data[out]\n",
    "\n",
    "data_norm = data[cols].groupby('Year').transform(lambda x: ((x-x.min()) / (x.max() - x.min())))\n",
    "data_norm[out] = data[out]\n",
    "\n",
    "data_norm.head()"
   ]
  },
  {
   "cell_type": "code",
   "execution_count": 6,
   "metadata": {},
   "outputs": [],
   "source": [
    "train_out, test_out = train_test_split(data_out, test_size = 0.2)\n",
    "\n",
    "train_std, test_std = train_test_split(data_std, test_size = 0.2)\n",
    "\n",
    "train_norm, test_norm = train_test_split(data_norm, test_size = 0.2)\n"
   ]
  },
  {
   "cell_type": "code",
   "execution_count": 7,
   "metadata": {},
   "outputs": [],
   "source": [
    "#let's create the csv files now from the pd datasets \n",
    "\n",
    "test_out.to_csv(path_or_buf = \"test_out.csv\")\n",
    "train_out.to_csv(path_or_buf = \"train_out.csv\")\n",
    "\n",
    "out_name = 'train_out.csv'\n",
    "\n",
    "test_std.to_csv(path_or_buf = \"test_std.csv\")\n",
    "train_std.to_csv(path_or_buf = \"train_std.csv\")\n",
    "\n",
    "std_name = 'train_std.csv'\n",
    "\n",
    "\n",
    "test_norm.to_csv(path_or_buf = \"test_norm.csv\")\n",
    "train_norm.to_csv(path_or_buf = \"train_norm.csv\")\n",
    "\n",
    "norm_name = 'train_norm.csv'\n",
    "\n",
    "\n"
   ]
  },
  {
   "cell_type": "code",
   "execution_count": 8,
   "metadata": {},
   "outputs": [
    {
     "name": "stdout",
     "output_type": "stream",
     "text": [
      "Deleting train_out.csv\n",
      "Deleting train_std.csv\n",
      "Deleting train_norm.csv\n",
      "(True, [{'name': 'train_out.csv', 'mbytes': 0.06639289855957031, 'minimum_recommeded_train_time': '5 minutes', 'updated_at': '2019-04-21T20:26:07.747310', 'categorical': None, 'sequential': None, 'imbalanced': None}, {'name': 'train_std.csv', 'mbytes': 0.6101875305175781, 'minimum_recommeded_train_time': '5 minutes', 'updated_at': '2019-04-21T20:26:08.141222', 'categorical': None, 'sequential': None, 'imbalanced': None}, {'name': 'train_norm.csv', 'mbytes': 0.5575351715087891, 'minimum_recommeded_train_time': '5 minutes', 'updated_at': '2019-04-21T20:26:08.407310', 'categorical': None, 'sequential': None, 'imbalanced': None}])\n"
     ]
    }
   ],
   "source": [
    "ds.delete_all_datasets()\n",
    "# Upload dataset\n",
    "status, dataset_out = ds.upload_dataset(out_name)\n",
    "if not status:\n",
    "    print(dataset_out)\n",
    "    \n",
    "status, dataset_std = ds.upload_dataset(std_name)\n",
    "if not status:\n",
    "    print(dataset_std)\n",
    "    \n",
    "status, dataset_norm = ds.upload_dataset(norm_name)\n",
    "if not status:\n",
    "    print(dataset_norm)\n",
    "\n",
    "\n",
    "print(ds.lookup_dataset())\n"
   ]
  },
  {
   "cell_type": "code",
   "execution_count": 9,
   "metadata": {},
   "outputs": [
    {
     "name": "stdout",
     "output_type": "stream",
     "text": [
      "{'status': 'Requested', 'starttime': '2019-04-21T20:26:32.133796', 'endtime': None, 'percent_complete': 0, 'job_type': 'CleanDataTiny', 'loss': None, 'generations': None, 'dataset_names': ['train_out.csv'], 'artifact_names': ['5ed5e29d81514d45951ac8687be5d5d5'], 'model_name': None, 'job_error': None}\n",
      "{'status': 'Complete', 'starttime': '2019-04-21T20:26:32.133796', 'endtime': '2019-04-21T20:26:35.259065', 'percent_complete': 100, 'job_type': 'CleanDataTiny', 'loss': None, 'generations': None, 'dataset_names': ['train_out.csv'], 'artifact_names': ['5ed5e29d81514d45951ac8687be5d5d5'], 'model_name': None, 'job_error': ''}\n",
      "{'status': 'Taken', 'starttime': '2019-04-21T20:26:48.400124', 'endtime': None, 'percent_complete': 0, 'job_type': 'CleanDataTiny', 'loss': None, 'generations': None, 'dataset_names': ['train_std.csv'], 'artifact_names': ['9ae7e88856fe49f59246c609257c039b'], 'model_name': None, 'job_error': None}\n",
      "{'status': 'Failed', 'starttime': '2019-04-21T20:26:48.400124', 'endtime': '2019-04-21T20:26:48.567492', 'percent_complete': 100, 'job_type': 'CleanDataTiny', 'loss': None, 'generations': None, 'dataset_names': ['train_std.csv'], 'artifact_names': ['9ae7e88856fe49f59246c609257c039b'], 'model_name': None, 'job_error': \"FailedDownload: Failed to download entity of type File from location ['datasets/31563548-4f39-11e9-ba76-ef365ec2e862_train_std.csv.csv']\"}\n",
      "{'status': 'Requested', 'starttime': '2019-04-21T20:27:04.780993', 'endtime': None, 'percent_complete': 0, 'job_type': 'CleanDataTiny', 'loss': None, 'generations': None, 'dataset_names': ['train_norm.csv'], 'artifact_names': ['694b218abab045a5b28be5d07d7c855a'], 'model_name': None, 'job_error': None}\n",
      "{'status': 'Complete', 'starttime': '2019-04-21T20:27:04.780993', 'endtime': '2019-04-21T20:27:09.331505', 'percent_complete': 100, 'job_type': 'CleanDataTiny', 'loss': None, 'generations': None, 'dataset_names': ['train_norm.csv'], 'artifact_names': ['694b218abab045a5b28be5d07d7c855a'], 'model_name': None, 'job_error': ''}\n"
     ]
    }
   ],
   "source": [
    "# clean dataset\n",
    "target = \"Result\"\n",
    "status, job_id = ds.clean_data(out_name, target = target)\n",
    "\n",
    "if status:\n",
    "    ds.wait_for_job(job_id['job_name'])\n",
    "else:\n",
    "    print(job_id)\n",
    "    \n",
    "status, job_id = ds.clean_data(std_name, target = target)\n",
    "\n",
    "if status:\n",
    "    ds.wait_for_job(job_id['job_name'])\n",
    "else:\n",
    "    print(job_id)\n",
    "    \n",
    "status, job_id = ds.clean_data(norm_name, target = target)\n",
    "\n",
    "if status:\n",
    "    ds.wait_for_job(job_id['job_name'])\n",
    "else:\n",
    "    print(job_id)"
   ]
  },
  {
   "cell_type": "code",
   "execution_count": 10,
   "metadata": {},
   "outputs": [
    {
     "name": "stdout",
     "output_type": "stream",
     "text": [
      "Deleting Result_modelout\n",
      "Deleting Result_model_std\n",
      "{'status': 'Requested', 'starttime': '2019-04-21T20:27:48.329853', 'endtime': None, 'percent_complete': 0, 'job_type': 'TrainModel', 'loss': None, 'generations': 0, 'dataset_names': ['train_out.csv'], 'artifact_names': None, 'model_name': 'Result_modelout', 'job_error': None}\n",
      "{'status': 'Failed', 'starttime': '2019-04-21T20:27:48.329853', 'endtime': '2019-04-21T20:27:48.937393', 'percent_complete': 100, 'job_type': 'TrainModel', 'loss': None, 'generations': 0, 'dataset_names': ['train_out.csv'], 'artifact_names': None, 'model_name': 'Result_modelout', 'job_error': 'FailedDownload: Failed to download entity of type Object from location artifacts/31563548-4f39-11e9-ba76-ef365ec2e862_5ed5e29d81514d45951ac8687be5d5d5/data_profiler_main'}\n",
      "{'status': 'Requested', 'starttime': '2019-04-21T20:28:04.620832', 'endtime': None, 'percent_complete': 0, 'job_type': 'TrainModel', 'loss': None, 'generations': 0, 'dataset_names': ['train_std.csv'], 'artifact_names': None, 'model_name': 'Result_model_std', 'job_error': None}\n",
      "{'status': 'Running', 'starttime': '2019-04-21T20:28:04.620832', 'endtime': None, 'percent_complete': 0, 'job_type': 'TrainModel', 'loss': None, 'generations': 0, 'dataset_names': ['train_std.csv'], 'artifact_names': None, 'model_name': 'Result_model_std', 'job_error': ''}\n",
      "{'status': 'Failed', 'starttime': '2019-04-21T20:28:04.620832', 'endtime': '2019-04-21T20:28:20.40066', 'percent_complete': 100, 'job_type': 'TrainModel', 'loss': None, 'generations': 0, 'dataset_names': ['train_std.csv'], 'artifact_names': None, 'model_name': 'Result_model_std', 'job_error': 'FailedDownload: Failed to download entity of type Object from location artifacts/31563548-4f39-11e9-ba76-ef365ec2e862_9ae7e88856fe49f59246c609257c039b/data_profiler_main'}\n",
      "{'status': 'Taken', 'starttime': '2019-04-21T20:28:35.963569', 'endtime': None, 'percent_complete': 0, 'job_type': 'TrainModel', 'loss': None, 'generations': 0, 'dataset_names': ['train_norm.csv'], 'artifact_names': None, 'model_name': 'Result_model_norm', 'job_error': None}\n",
      "{'status': 'Running', 'starttime': '2019-04-21T20:28:35.963569', 'endtime': None, 'percent_complete': 4, 'job_type': 'TrainModel', 'loss': 1.4166104793548584, 'generations': 4, 'dataset_names': ['train_norm.csv'], 'artifact_names': None, 'model_name': 'Result_model_norm', 'job_error': ''}\n",
      "{'status': 'Running', 'starttime': '2019-04-21T20:28:35.963569', 'endtime': None, 'percent_complete': 4, 'job_type': 'TrainModel', 'loss': 1.4166104793548584, 'generations': 4, 'dataset_names': ['train_norm.csv'], 'artifact_names': None, 'model_name': 'Result_model_norm', 'job_error': ''}\n",
      "{'status': 'Running', 'starttime': '2019-04-21T20:28:35.963569', 'endtime': None, 'percent_complete': 25, 'job_type': 'TrainModel', 'loss': 1.4166104793548584, 'generations': 4, 'dataset_names': ['train_norm.csv'], 'artifact_names': None, 'model_name': 'Result_model_norm', 'job_error': ''}\n"
     ]
    },
    {
     "ename": "KeyboardInterrupt",
     "evalue": "",
     "output_type": "error",
     "traceback": [
      "\u001b[0;31m---------------------------------------------------------------------------\u001b[0m",
      "\u001b[0;31mKeyboardInterrupt\u001b[0m                         Traceback (most recent call last)",
      "\u001b[0;32m<ipython-input-10-8425b128edd6>\u001b[0m in \u001b[0;36m<module>\u001b[0;34m\u001b[0m\n\u001b[1;32m     28\u001b[0m                                  max_train_time = '00:02')\n\u001b[1;32m     29\u001b[0m \u001b[0;32mif\u001b[0m \u001b[0mstatus\u001b[0m\u001b[0;34m:\u001b[0m\u001b[0;34m\u001b[0m\u001b[0;34m\u001b[0m\u001b[0m\n\u001b[0;32m---> 30\u001b[0;31m     \u001b[0mds\u001b[0m\u001b[0;34m.\u001b[0m\u001b[0mwait_for_job\u001b[0m\u001b[0;34m(\u001b[0m\u001b[0mjob_id\u001b[0m\u001b[0;34m[\u001b[0m\u001b[0;34m'job_name'\u001b[0m\u001b[0;34m]\u001b[0m\u001b[0;34m)\u001b[0m\u001b[0;34m\u001b[0m\u001b[0;34m\u001b[0m\u001b[0m\n\u001b[0m\u001b[1;32m     31\u001b[0m \u001b[0;32melse\u001b[0m\u001b[0;34m:\u001b[0m\u001b[0;34m\u001b[0m\u001b[0;34m\u001b[0m\u001b[0m\n\u001b[1;32m     32\u001b[0m     \u001b[0mprint\u001b[0m\u001b[0;34m(\u001b[0m\u001b[0mjob_id\u001b[0m\u001b[0;34m)\u001b[0m\u001b[0;34m\u001b[0m\u001b[0;34m\u001b[0m\u001b[0m\n",
      "\u001b[0;32m/Library/Frameworks/Python.framework/Versions/3.6/lib/python3.6/site-packages/amb_sdk-1.0-py3.6.egg/amb_sdk/sdk.py\u001b[0m in \u001b[0;36mwait_for_job\u001b[0;34m(self, job_name, time_limit)\u001b[0m\n\u001b[1;32m    712\u001b[0m                 \u001b[0;32mif\u001b[0m \u001b[0;34m(\u001b[0m\u001b[0mtime\u001b[0m\u001b[0;34m.\u001b[0m\u001b[0mtime\u001b[0m\u001b[0;34m(\u001b[0m\u001b[0;34m)\u001b[0m \u001b[0;34m-\u001b[0m \u001b[0mstart_time\u001b[0m \u001b[0;34m>\u001b[0m \u001b[0mtime_limit\u001b[0m\u001b[0;34m)\u001b[0m\u001b[0;34m:\u001b[0m\u001b[0;34m\u001b[0m\u001b[0;34m\u001b[0m\u001b[0m\n\u001b[1;32m    713\u001b[0m                     \u001b[0;32mbreak\u001b[0m\u001b[0;34m\u001b[0m\u001b[0;34m\u001b[0m\u001b[0m\n\u001b[0;32m--> 714\u001b[0;31m                 \u001b[0mtime\u001b[0m\u001b[0;34m.\u001b[0m\u001b[0msleep\u001b[0m\u001b[0;34m(\u001b[0m\u001b[0;36m15.0\u001b[0m\u001b[0;34m)\u001b[0m\u001b[0;34m\u001b[0m\u001b[0;34m\u001b[0m\u001b[0m\n\u001b[0m\u001b[1;32m    715\u001b[0m                 \u001b[0;34m(\u001b[0m\u001b[0mcode\u001b[0m\u001b[0;34m,\u001b[0m \u001b[0mresponse\u001b[0m\u001b[0;34m)\u001b[0m \u001b[0;34m=\u001b[0m \u001b[0mself\u001b[0m\u001b[0;34m.\u001b[0m\u001b[0mlookup_job_status_name\u001b[0m\u001b[0;34m(\u001b[0m\u001b[0mstr\u001b[0m\u001b[0;34m(\u001b[0m\u001b[0mjob_name\u001b[0m\u001b[0;34m)\u001b[0m\u001b[0;34m)\u001b[0m\u001b[0;34m\u001b[0m\u001b[0;34m\u001b[0m\u001b[0m\n\u001b[1;32m    716\u001b[0m                 \u001b[0mprint\u001b[0m\u001b[0;34m(\u001b[0m\u001b[0mresponse\u001b[0m\u001b[0;34m)\u001b[0m\u001b[0;34m\u001b[0m\u001b[0;34m\u001b[0m\u001b[0m\n",
      "\u001b[0;31mKeyboardInterrupt\u001b[0m: "
     ]
    }
   ],
   "source": [
    "\n",
    "model_out = target + \"_modelout\"\n",
    "\n",
    "status, job_id = ds.create_model(dataset_names = out_name, \\\n",
    "                                 model_name =  model_out, \\\n",
    "                                 max_train_time = '00:02')\n",
    "if status:\n",
    "    ds.wait_for_job(job_id['job_name'])\n",
    "else:\n",
    "    print(job_id)\n",
    "    \n",
    "    \n",
    "model_std = target + \"_model_std\"\n",
    "\n",
    "status, job_id = ds.create_model(dataset_names = std_name, \\\n",
    "                                 model_name =  model_std, \\\n",
    "                                 max_train_time = '00:02')\n",
    "if status:\n",
    "    ds.wait_for_job(job_id['job_name'])\n",
    "else:\n",
    "    print(job_id)\n",
    "    \n",
    "    \n",
    "model_norm = target + \"_model_norm\"\n",
    "\n",
    "status, job_id = ds.create_model(dataset_names = norm_name, \\\n",
    "                                 model_name =  model_norm, \\\n",
    "                                 max_train_time = '00:02')\n",
    "if status:\n",
    "    ds.wait_for_job(job_id['job_name'])\n",
    "else:\n",
    "    print(job_id)"
   ]
  },
  {
   "cell_type": "code",
   "execution_count": 88,
   "metadata": {},
   "outputs": [
    {
     "name": "stdout",
     "output_type": "stream",
     "text": [
      "{'status': 'Taken', 'starttime': '2019-04-16T20:37:12.992728', 'endtime': None, 'percent_complete': 0, 'job_type': 'UpdateModel', 'loss': 1.422910213470459, 'generations': 8, 'dataset_names': ['train.csv'], 'artifact_names': None, 'model_name': 'Result_model0', 'job_error': None}\n",
      "{'status': 'Running', 'starttime': '2019-04-16T20:37:12.992728', 'endtime': None, 'percent_complete': 0, 'job_type': 'UpdateModel', 'loss': 1.422910213470459, 'generations': 9, 'dataset_names': ['train.csv'], 'artifact_names': None, 'model_name': 'Result_model0', 'job_error': ''}\n",
      "{'status': 'Running', 'starttime': '2019-04-16T20:37:12.992728', 'endtime': None, 'percent_complete': 6, 'job_type': 'UpdateModel', 'loss': 1.422910213470459, 'generations': 10, 'dataset_names': ['train.csv'], 'artifact_names': None, 'model_name': 'Result_model0', 'job_error': ''}\n",
      "{'status': 'Running', 'starttime': '2019-04-16T20:37:12.992728', 'endtime': None, 'percent_complete': 10, 'job_type': 'UpdateModel', 'loss': 1.422910213470459, 'generations': 11, 'dataset_names': ['train.csv'], 'artifact_names': None, 'model_name': 'Result_model0', 'job_error': ''}\n",
      "{'status': 'Running', 'starttime': '2019-04-16T20:37:12.992728', 'endtime': None, 'percent_complete': 13, 'job_type': 'UpdateModel', 'loss': 1.422910213470459, 'generations': 12, 'dataset_names': ['train.csv'], 'artifact_names': None, 'model_name': 'Result_model0', 'job_error': ''}\n",
      "{'status': 'Complete', 'starttime': '2019-04-16T20:37:12.992728', 'endtime': '2019-04-16T20:38:17.61279', 'percent_complete': 100, 'job_type': 'UpdateModel', 'loss': 1.422910213470459, 'generations': 12, 'dataset_names': ['train.csv'], 'artifact_names': None, 'model_name': 'Result_model0', 'job_error': ''}\n"
     ]
    }
   ],
   "source": [
    "# Train some more\n",
    "status, job_id = ds.resume_training_model(dataset_names = dataset_name,\n",
    "                                          model_name = model,\n",
    "                                          max_train_time = '00:05')\n",
    "                                          \n",
    "if status:\n",
    "    ds.wait_for_job(job_id['job_name'])\n",
    "else:\n",
    "    print(job_id)"
   ]
  },
  {
   "cell_type": "code",
   "execution_count": 89,
   "metadata": {},
   "outputs": [
    {
     "name": "stdout",
     "output_type": "stream",
     "text": [
      "{'status': 'Running', 'starttime': '2019-04-16T20:38:29.435423', 'endtime': None, 'percent_complete': 0, 'job_type': 'AnalyzeModel', 'loss': 1.422910213470459, 'generations': 12, 'dataset_names': None, 'artifact_names': ['cc7f3698bbca46458a43b60d364683e2'], 'model_name': 'Result_model0', 'job_error': ''}\n",
      "{'status': 'Complete', 'starttime': '2019-04-16T20:38:29.435423', 'endtime': '2019-04-16T20:38:30.969256', 'percent_complete': 100, 'job_type': 'AnalyzeModel', 'loss': 1.422910213470459, 'generations': 12, 'dataset_names': None, 'artifact_names': ['cc7f3698bbca46458a43b60d364683e2'], 'model_name': 'Result_model0', 'job_error': ''}\n"
     ]
    }
   ],
   "source": [
    "# Retrieve feature importance of built model\n",
    "status, artifact = ds.analyze_model(model)\n",
    "sleep(1)\n",
    "if status:\n",
    "    ds.wait_for_job(artifact['job_name'])\n",
    "else:\n",
    "    print(artifact)\n",
    "status, feature_importance = ds.download_artifact(artifact['artifact_name'])"
   ]
  },
  {
   "cell_type": "code",
   "execution_count": 90,
   "metadata": {},
   "outputs": [
    {
     "data": {
      "text/plain": [
       "NRtg                             0.314839\n",
       "MOV                              0.284053\n",
       "SRS                              0.143460\n",
       "ORtg                             0.058764\n",
       "DRtg                             0.041079\n",
       "SOS                              0.039445\n",
       "OeFG%                            0.030223\n",
       "DeFG%                            0.026131\n",
       "Age                              0.015145\n",
       "ORB%                             0.009451\n",
       "TOV                              0.008512\n",
       "OFT/FGA                          0.006920\n",
       "Unnamed: 0                       0.006495\n",
       "Team = San Antonio Spurs         0.002697\n",
       "Team = Utah Jazz                 0.001514\n",
       "Team = Sacramento Kings          0.001018\n",
       "Team = Indiana Pacers            0.000847\n",
       "Team = Seattle SuperSonics       0.000755\n",
       "Team = Los Angeles Lakers        0.000745\n",
       "Team = Cleveland Cavaliers       0.000737\n",
       "Team = Milwaukee Bucks           0.000700\n",
       "Team = Portland Trail Blazers    0.000595\n",
       "Team = Los Angeles Clippers      0.000571\n",
       "Team = New York Knicks           0.000529\n",
       "Team = Denver Nuggets            0.000403\n",
       "Team = Golden State Warriors     0.000399\n",
       "Team = Toronto Raptors           0.000380\n",
       "Team = Dallas Mavericks          0.000377\n",
       "Team = Washington Bullets        0.000345\n",
       "Team = Philadelphia 76ers        0.000324\n",
       "Team = Washington Wizards        0.000315\n",
       "Team = Houston Rockets           0.000312\n",
       "Team = Detroit Pistons           0.000310\n",
       "Team = Brooklyn Nets             0.000306\n",
       "Team = New Jersey Nets           0.000263\n",
       "Team = Orlando Magic             0.000229\n",
       "Team = Oklahoma City Thunder     0.000201\n",
       "Team = San Diego Clippers        0.000149\n",
       "Team = Boston Celtics            0.000119\n",
       "Team = Chicago Bulls             0.000108\n",
       "Team = Minnesota Timberwolves    0.000107\n",
       "Team = Miami Heat                0.000066\n",
       "Team = Phoenix Suns              0.000046\n",
       "Team = Charlotte Hornets         0.000011\n",
       "Team = New Orleans Hornets       0.000005\n",
       "Team = New Orleans Pelicans      0.000000\n",
       "Team = Kansas City Kings         0.000000\n",
       "Team = Memphis Grizzlies         0.000000\n",
       "Team = Charlotte Bobcats         0.000000\n",
       "Team = Vancouver Grizzlies       0.000000\n",
       "dtype: float64"
      ]
     },
     "execution_count": 90,
     "metadata": {},
     "output_type": "execute_result"
    }
   ],
   "source": [
    "feature_importance[:50]\n",
    "\n"
   ]
  },
  {
   "cell_type": "code",
   "execution_count": 91,
   "metadata": {},
   "outputs": [
    {
     "name": "stdout",
     "output_type": "stream",
     "text": [
      "{'status': 'Running', 'starttime': '2019-04-16T20:38:47.062931', 'endtime': None, 'percent_complete': 0, 'job_type': 'RunModel', 'loss': 1.422910213470459, 'generations': 12, 'dataset_names': ['train.csv'], 'artifact_names': ['def4a5e025a24623a77e200df578347a'], 'model_name': 'Result_model0', 'job_error': ''}\n",
      "{'status': 'Complete', 'starttime': '2019-04-16T20:38:47.062931', 'endtime': '2019-04-16T20:38:48.34756', 'percent_complete': 100, 'job_type': 'RunModel', 'loss': 1.422910213470459, 'generations': 12, 'dataset_names': ['train.csv'], 'artifact_names': ['def4a5e025a24623a77e200df578347a'], 'model_name': 'Result_model0', 'job_error': ''}\n"
     ]
    },
    {
     "data": {
      "text/plain": [
       "(True, 'Job completed')"
      ]
     },
     "execution_count": 91,
     "metadata": {},
     "output_type": "execute_result"
    }
   ],
   "source": [
    "status, artifact = ds.run_model(dataset_name, model)\n",
    "sleep(1)\n",
    "ds.wait_for_job(artifact['job_name'])"
   ]
  },
  {
   "cell_type": "code",
   "execution_count": 92,
   "metadata": {},
   "outputs": [
    {
     "data": {
      "text/html": [
       "<div>\n",
       "<style scoped>\n",
       "    .dataframe tbody tr th:only-of-type {\n",
       "        vertical-align: middle;\n",
       "    }\n",
       "\n",
       "    .dataframe tbody tr th {\n",
       "        vertical-align: top;\n",
       "    }\n",
       "\n",
       "    .dataframe thead th {\n",
       "        text-align: right;\n",
       "    }\n",
       "</style>\n",
       "<table border=\"1\" class=\"dataframe\">\n",
       "  <thead>\n",
       "    <tr style=\"text-align: right;\">\n",
       "      <th></th>\n",
       "      <th>Result</th>\n",
       "      <th>prob_CF</th>\n",
       "      <th>prob_FR</th>\n",
       "      <th>prob_LF</th>\n",
       "      <th>prob_NP</th>\n",
       "      <th>prob_SF</th>\n",
       "      <th>prob_WF</th>\n",
       "    </tr>\n",
       "  </thead>\n",
       "  <tbody>\n",
       "    <tr>\n",
       "      <th>0</th>\n",
       "      <td>NP</td>\n",
       "      <td>0.000000</td>\n",
       "      <td>0.000000</td>\n",
       "      <td>0.000000</td>\n",
       "      <td>1.000000</td>\n",
       "      <td>0.000000</td>\n",
       "      <td>0.000000</td>\n",
       "    </tr>\n",
       "    <tr>\n",
       "      <th>1</th>\n",
       "      <td>SF</td>\n",
       "      <td>0.157301</td>\n",
       "      <td>0.345011</td>\n",
       "      <td>0.103126</td>\n",
       "      <td>0.000000</td>\n",
       "      <td>0.359975</td>\n",
       "      <td>0.034587</td>\n",
       "    </tr>\n",
       "    <tr>\n",
       "      <th>2</th>\n",
       "      <td>NP</td>\n",
       "      <td>0.000000</td>\n",
       "      <td>0.427058</td>\n",
       "      <td>0.000000</td>\n",
       "      <td>0.547995</td>\n",
       "      <td>0.024948</td>\n",
       "      <td>0.000000</td>\n",
       "    </tr>\n",
       "    <tr>\n",
       "      <th>3</th>\n",
       "      <td>FR</td>\n",
       "      <td>0.019897</td>\n",
       "      <td>0.646944</td>\n",
       "      <td>0.009655</td>\n",
       "      <td>0.209867</td>\n",
       "      <td>0.113637</td>\n",
       "      <td>0.000000</td>\n",
       "    </tr>\n",
       "    <tr>\n",
       "      <th>4</th>\n",
       "      <td>CF</td>\n",
       "      <td>0.316036</td>\n",
       "      <td>0.116084</td>\n",
       "      <td>0.126795</td>\n",
       "      <td>0.000000</td>\n",
       "      <td>0.253273</td>\n",
       "      <td>0.187812</td>\n",
       "    </tr>\n",
       "  </tbody>\n",
       "</table>\n",
       "</div>"
      ],
      "text/plain": [
       "  Result   prob_CF   prob_FR   prob_LF   prob_NP   prob_SF   prob_WF\n",
       "0     NP  0.000000  0.000000  0.000000  1.000000  0.000000  0.000000\n",
       "1     SF  0.157301  0.345011  0.103126  0.000000  0.359975  0.034587\n",
       "2     NP  0.000000  0.427058  0.000000  0.547995  0.024948  0.000000\n",
       "3     FR  0.019897  0.646944  0.009655  0.209867  0.113637  0.000000\n",
       "4     CF  0.316036  0.116084  0.126795  0.000000  0.253273  0.187812"
      ]
     },
     "execution_count": 92,
     "metadata": {},
     "output_type": "execute_result"
    }
   ],
   "source": [
    "status, prediction = ds.download_artifact(artifact['artifact_name'])\n",
    "prediction.head()"
   ]
  },
  {
   "cell_type": "code",
   "execution_count": 93,
   "metadata": {},
   "outputs": [
    {
     "name": "stderr",
     "output_type": "stream",
     "text": [
      "/Library/Frameworks/Python.framework/Versions/3.6/lib/python3.6/site-packages/scikit_learn-0.20.3-py3.6-macosx-10.6-intel.egg/sklearn/metrics/classification.py:1143: UndefinedMetricWarning: Precision and F-score are ill-defined and being set to 0.0 in labels with no predicted samples.\n",
      "  'precision', 'predicted', average, warn_for)\n"
     ]
    },
    {
     "name": "stdout",
     "output_type": "stream",
     "text": [
      "              precision    recall  f1-score   support\n",
      "\n",
      "          CF       0.28      0.51      0.36        53\n",
      "          FR       0.59      0.69      0.64       213\n",
      "          LF       0.00      0.00      0.00        22\n",
      "          NP       0.89      0.91      0.90       316\n",
      "          SF       0.36      0.24      0.29       112\n",
      "          WF       0.00      0.00      0.00        23\n",
      "\n",
      "   micro avg       0.66      0.66      0.66       739\n",
      "   macro avg       0.36      0.39      0.36       739\n",
      "weighted avg       0.63      0.66      0.64       739\n",
      "\n"
     ]
    },
    {
     "data": {
      "image/png": "[encoded data removed]",
      "text/plain": [
       "<Figure size 432x288 with 1 Axes>"
      ]
     },
     "metadata": {
      "needs_background": "light"
     },
     "output_type": "display_data"
    }
   ],
   "source": [
    "unq = prediction[target].unique()[::-1]\n",
    "p = np.zeros((len(prediction),))\n",
    "a = np.zeros((len(prediction),))\n",
    "for i,q in enumerate(unq):\n",
    "    p += i*(prediction[target] == q).values\n",
    "    a += i*(train[target] == q).values\n",
    "#Plot predictions vs actual\n",
    "plt.plot(a)\n",
    "plt.plot(p)\n",
    "plt.legend(['Actual','Predicted'])\n",
    "plt.yticks([i for i in range(len(unq))],[q for q in unq]);\n",
    "print(classification_report(train[target], prediction[target]))"
   ]
  },
  {
   "cell_type": "code",
   "execution_count": 94,
   "metadata": {},
   "outputs": [],
   "source": [
    "\n",
    "test_data = 'test.csv'\n",
    "ds.delete_dataset(test_data)\n",
    "status, dataset = ds.upload_dataset(test_data)\n",
    "if not status:\n",
    "    print(dataset)"
   ]
  },
  {
   "cell_type": "code",
   "execution_count": 95,
   "metadata": {},
   "outputs": [
    {
     "name": "stdout",
     "output_type": "stream",
     "text": [
      "{'status': 'Requested', 'starttime': '2019-04-16T20:39:05.443415', 'endtime': None, 'percent_complete': 0, 'job_type': 'CleanDataTiny', 'loss': None, 'generations': None, 'dataset_names': ['test.csv'], 'artifact_names': ['a21c095d93c441049dff65e1b7d44abf'], 'model_name': None, 'job_error': None}\n",
      "{'status': 'Complete', 'starttime': '2019-04-16T20:39:05.443415', 'endtime': '2019-04-16T20:39:07.109517', 'percent_complete': 100, 'job_type': 'CleanDataTiny', 'loss': None, 'generations': None, 'dataset_names': ['test.csv'], 'artifact_names': ['a21c095d93c441049dff65e1b7d44abf'], 'model_name': None, 'job_error': ''}\n"
     ]
    }
   ],
   "source": [
    "# clean test dataset\n",
    "status, job_id = ds.clean_data(test_data, target = target, model_name = model)\n",
    "\n",
    "if status:\n",
    "    ds.wait_for_job(job_id['job_name'])\n",
    "else:\n",
    "    print(job_id)"
   ]
  },
  {
   "cell_type": "code",
   "execution_count": 96,
   "metadata": {},
   "outputs": [
    {
     "name": "stdout",
     "output_type": "stream",
     "text": [
      "{'status': 'Running', 'starttime': '2019-04-16T20:39:21.689987', 'endtime': None, 'percent_complete': 0, 'job_type': 'RunModel', 'loss': 1.422910213470459, 'generations': 12, 'dataset_names': ['test.csv'], 'artifact_names': ['2ac97adf311548bfbb36a3c904121a5a'], 'model_name': 'Result_model0', 'job_error': ''}\n",
      "{'status': 'Complete', 'starttime': '2019-04-16T20:39:21.689987', 'endtime': '2019-04-16T20:39:31.068315', 'percent_complete': 100, 'job_type': 'RunModel', 'loss': 1.422910213470459, 'generations': 12, 'dataset_names': ['test.csv'], 'artifact_names': ['2ac97adf311548bfbb36a3c904121a5a'], 'model_name': 'Result_model0', 'job_error': ''}\n"
     ]
    },
    {
     "data": {
      "text/plain": [
       "(True, 'Job completed')"
      ]
     },
     "execution_count": 96,
     "metadata": {},
     "output_type": "execute_result"
    }
   ],
   "source": [
    "status, artifact = ds.run_model(test_data, model)\n",
    "sleep(1)\n",
    "ds.wait_for_job(artifact['job_name'])"
   ]
  },
  {
   "cell_type": "code",
   "execution_count": 97,
   "metadata": {},
   "outputs": [
    {
     "name": "stderr",
     "output_type": "stream",
     "text": [
      "/Library/Frameworks/Python.framework/Versions/3.6/lib/python3.6/site-packages/scikit_learn-0.20.3-py3.6-macosx-10.6-intel.egg/sklearn/metrics/classification.py:1143: UndefinedMetricWarning: Precision and F-score are ill-defined and being set to 0.0 in labels with no predicted samples.\n",
      "  'precision', 'predicted', average, warn_for)\n"
     ]
    },
    {
     "name": "stdout",
     "output_type": "stream",
     "text": [
      "              precision    recall  f1-score   support\n",
      "\n",
      "          CF       0.22      0.58      0.32        12\n",
      "          FR       0.52      0.43      0.47        51\n",
      "          LF       0.00      0.00      0.00        11\n",
      "          NP       0.86      0.89      0.87        81\n",
      "          SF       0.11      0.15      0.13        20\n",
      "          WF       0.00      0.00      0.00        10\n",
      "\n",
      "   micro avg       0.56      0.56      0.56       185\n",
      "   macro avg       0.29      0.34      0.30       185\n",
      "weighted avg       0.55      0.56      0.55       185\n",
      "\n"
     ]
    },
    {
     "data": {
      "image/png": "[encoded data removed]",
      "text/plain": [
       "<Figure size 432x288 with 1 Axes>"
      ]
     },
     "metadata": {
      "needs_background": "light"
     },
     "output_type": "display_data"
    }
   ],
   "source": [
    "# Create plots comparing predictions with actual target\n",
    "status, prediction = ds.download_artifact(artifact['artifact_name'])\n",
    "df = pd.read_csv(test_data)\n",
    "unq = prediction[target].unique()[::-1]\n",
    "p = np.zeros((len(prediction),))\n",
    "a = np.zeros((len(prediction),))\n",
    "for i,q in enumerate(unq):\n",
    "    p += i*(prediction[target] == q).values\n",
    "    a += i*(df[target] == q).values\n",
    "#Plot predictions vs actual\n",
    "plt.plot(a)\n",
    "plt.plot(p)\n",
    "plt.legend(['Actual','Predicted'])\n",
    "plt.yticks([i for i in range(len(unq))],[q for q in unq]);\n",
    "print(classification_report(df[target], prediction[target]))"
   ]
  },
  {
   "cell_type": "code",
   "execution_count": 98,
   "metadata": {},
   "outputs": [
    {
     "name": "stdout",
     "output_type": "stream",
     "text": [
      "{'type': 'RandomForestClassifier', 'parameters': {}}\n"
     ]
    }
   ],
   "source": [
    "status, model_type = ds.lookup_model_name(model)\n",
    "print(model_type['description']['best_genome'])"
   ]
  },
  {
   "cell_type": "code",
   "execution_count": null,
   "metadata": {},
   "outputs": [],
   "source": []
  }
 ],
 "metadata": {
  "kernelspec": {
   "display_name": "Python 3",
   "language": "python",
   "name": "python3"
  },
  "language_info": {
   "codemirror_mode": {
    "name": "ipython",
    "version": 3
   },
   "file_extension": ".py",
   "mimetype": "text/x-python",
   "name": "python",
   "nbconvert_exporter": "python",
   "pygments_lexer": "ipython3",
   "version": "3.6.7"
  }
 },
 "nbformat": 4,
 "nbformat_minor": 2
}
